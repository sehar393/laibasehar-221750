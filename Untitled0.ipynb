{
  "cells": [
    {
      "cell_type": "markdown",
      "metadata": {
        "id": "view-in-github",
        "colab_type": "text"
      },
      "source": [
        "<a href=\"https://colab.research.google.com/github/sehar393/laibasehar-221750/blob/main/Untitled0.ipynb\" target=\"_parent\"><img src=\"https://colab.research.google.com/assets/colab-badge.svg\" alt=\"Open In Colab\"/></a>"
      ]
    },
    {
      "cell_type": "code",
      "execution_count": null,
      "metadata": {
        "colab": {
          "base_uri": "https://localhost:8080/"
        },
        "id": "D7_m7n1ReYet",
        "outputId": "0aef6267-fd84-4982-f07f-ff46c62e458e"
      },
      "outputs": [
        {
          "metadata": {
            "tags": null
          },
          "name": "stdout",
          "output_type": "stream",
          "text": [
            "A B C D E F\n",
            "['Apple', 'Banana', 'Mango']\n",
            "['Apple', 'Banana', 'Mango']\n"
          ]
        }
      ],
      "source": [
        "print('A','B','C','D','E','F' )\n",
        "fruits = ['Apple', 'Banana', 'Mango']\n",
        "print(fruits)\n",
        "mytuple = ('plum', 'pineapple', 'cherry')\n",
        "print(fruits)\n",
        "name = input(\"Enter your name: \")\n",
        "if name.lower() == 'sehar':\n",
        "  print(\"Hello sehar\")\n",
        "else:\n",
        "  print(\"How are you\")\n",
        "\n",
        "\n",
        "\n"
      ]
    },
    {
      "cell_type": "code",
      "source": [],
      "metadata": {
        "id": "JQ_t9sYhYjhs"
      },
      "execution_count": null,
      "outputs": []
    }
  ],
  "metadata": {
    "colab": {
      "provenance": [],
      "authorship_tag": "ABX9TyNd7EIxsc7CB+QWGboa1ztp",
      "include_colab_link": true
    },
    "kernelspec": {
      "display_name": "Python 3",
      "name": "python3"
    },
    "language_info": {
      "name": "python"
    }
  },
  "nbformat": 4,
  "nbformat_minor": 0
}